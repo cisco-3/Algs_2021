{
 "cells": [
  {
   "cell_type": "code",
   "execution_count": 3,
   "metadata": {},
   "outputs": [],
   "source": [
    "%matplotlib inline"
   ]
  },
  {
   "cell_type": "markdown",
   "metadata": {},
   "source": [
    "\n",
    "\n",
    "# Model Selection\n",
    "\n",
    "In `model_evaluation`, we saw how to check the performance of an interpolator using\n",
    "cross-validation. We found that the default parameters for :class:`verde.Spline` are not\n",
    "good for predicting our sample air temperature data. Now, let's see how we can tune the\n",
    ":class:`~verde.Spline` to improve the cross-validation performance.\n",
    "\n",
    "Once again, we'll start by importing the required packages and loading our sample data.\n"
   ]
  },
  {
   "cell_type": "code",
   "execution_count": 4,
   "metadata": {},
   "outputs": [],
   "source": [
    "import numpy as np\n",
    "import matplotlib.pyplot as plt\n",
    "import cartopy.crs as ccrs\n",
    "import itertools\n",
    "import pyproj\n",
    "import verde as vd\n",
    "\n",
    "data = vd.datasets.fetch_baja_bathymetry()\n",
    "#auxilary data for testing\n",
    "dataz = vd.datasets.fetch_texas_wind()\n",
    "\n",
    "# Use Mercator projection because Spline is a Cartesian gridder\n",
    "projection = pyproj.Proj(proj=\"merc\", lat_ts=data.latitude.mean())\n",
    "projectionz = pyproj.Proj(proj=\"merc\", lat_ts=dataz.latitude.mean())\n",
    "proj_coords = projection(data.longitude.values, data.latitude.values)\n",
    "proj_coordz = projection(dataz.longitude.values, dataz.latitude.values)\n",
    "\n",
    "region = vd.get_region((data.longitude, data.latitude))\n",
    "# For this data, we'll generate a grid with 15 arc-minute spacing\n",
    "spacing = 30 / 60"
   ]
  },
  {
   "cell_type": "markdown",
   "metadata": {},
   "source": [
    "Before we begin tuning, let's reiterate what the results were with the default\n",
    "parameters.\n",
    "\n"
   ]
  },
  {
   "cell_type": "code",
   "execution_count": 5,
   "metadata": {},
   "outputs": [
    {
     "name": "stdout",
     "output_type": "stream",
     "text": [
      "R² with defaults: 0.7960375866932156\n"
     ]
    }
   ],
   "source": [
    "spline_default = vd.Spline()\n",
    "score_default = np.mean(\n",
    "    vd.cross_val_score(spline_default, proj_coordz, dataz.air_temperature_c)\n",
    ")\n",
    "spline_default.fit(proj_coordz, dataz.air_temperature_c)\n",
    "print(\"R² with defaults:\", score_default)"
   ]
  },
  {
   "cell_type": "markdown",
   "metadata": {},
   "source": [
    "## Tuning\n",
    "\n",
    ":class:`~verde.Spline` has many parameters that can be set to modify the final result.\n",
    "Mainly the ``damping`` regularization parameter which controls how much smoothness is imposed on the estimated forces. It allows our algorithm to take more straight forwards path towards local optima and damp out vertical oscillations. The ``mindists`` param which accounts for slight errors in the measured location of forces and their actual locations. Would changing the default values give us a better score?\n",
    "\n",
    "We can answer these questions by changing the values in our ``spline`` and\n",
    "re-evaluating the model score repeatedly for different values of these parameters.\n",
    "Let's test the following combinations:\n",
    "\n"
   ]
  },
  {
   "cell_type": "code",
   "execution_count": 6,
   "metadata": {},
   "outputs": [
    {
     "name": "stdout",
     "output_type": "stream",
     "text": [
      "Number of combinations: 16\n",
      "Combinations: [{'damping': None, 'mindist': 5000.0}, {'damping': None, 'mindist': 10000.0}, {'damping': None, 'mindist': 50000.0}, {'damping': None, 'mindist': 100000.0}, {'damping': 0.0001, 'mindist': 5000.0}, {'damping': 0.0001, 'mindist': 10000.0}, {'damping': 0.0001, 'mindist': 50000.0}, {'damping': 0.0001, 'mindist': 100000.0}, {'damping': 0.001, 'mindist': 5000.0}, {'damping': 0.001, 'mindist': 10000.0}, {'damping': 0.001, 'mindist': 50000.0}, {'damping': 0.001, 'mindist': 100000.0}, {'damping': 0.01, 'mindist': 5000.0}, {'damping': 0.01, 'mindist': 10000.0}, {'damping': 0.01, 'mindist': 50000.0}, {'damping': 0.01, 'mindist': 100000.0}]\n"
     ]
    }
   ],
   "source": [
    "dampings = [None, 1e-4, 1e-3, 1e-2]\n",
    "mindists = [5e3, 10e3, 50e3, 100e3]\n",
    "\n",
    "# Use itertools to create a list with all combinations of parameters to test\n",
    "parameter_sets = [\n",
    "    dict(damping=combo[0], mindist=combo[1])\n",
    "    for combo in itertools.product(dampings, mindists)\n",
    "]\n",
    "print(\"Number of combinations:\", len(parameter_sets))\n",
    "print(\"Combinations:\", parameter_sets)"
   ]
  },
  {
   "cell_type": "markdown",
   "metadata": {},
   "source": [
    "Now we can loop over the combinations and collect the scores for each parameter set.\n",
    "\n"
   ]
  },
  {
   "cell_type": "code",
   "execution_count": 7,
   "metadata": {},
   "outputs": [
    {
     "name": "stdout",
     "output_type": "stream",
     "text": [
      "[-3.0558088625105246, -1.0324987610313634, 0.8388935474419433, 0.8372297486556756, 0.8357332950163141, 0.8302176127333297, 0.8503658696313814, 0.842379393827142, 0.8371791440825426, 0.8403780767301334, 0.852794541088171, 0.8524545032000166, 0.8403005442318481, 0.8344566205401425, 0.843101054678694, 0.8486770494068516]\n"
     ]
    }
   ],
   "source": [
    "spline = vd.Spline()\n",
    "scores = []\n",
    "for params in parameter_sets:\n",
    "    spline.set_params(**params)\n",
    "    score = np.mean(vd.cross_val_score(spline, proj_coordz, dataz.air_temperature_c))\n",
    "    scores.append(score)\n",
    "print(scores)"
   ]
  },
  {
   "cell_type": "markdown",
   "metadata": {},
   "source": [
    "The largest score will yield the best parameter combination.\n",
    "\n"
   ]
  },
  {
   "cell_type": "code",
   "execution_count": 8,
   "metadata": {},
   "outputs": [
    {
     "name": "stdout",
     "output_type": "stream",
     "text": [
      "Best score: 0.852794541088171\n",
      "Score with defaults: 0.7960375866932156\n",
      "Best parameters: {'damping': 0.001, 'mindist': 50000.0}\n"
     ]
    }
   ],
   "source": [
    "best = np.argmax(scores)\n",
    "print(\"Best score:\", scores[best])\n",
    "print(\"Score with defaults:\", score_default)\n",
    "print(\"Best parameters:\", parameter_sets[best])"
   ]
  },
  {
   "cell_type": "markdown",
   "metadata": {},
   "source": [
    "**That is a nice improvement over our previous score!**\n",
    "\n",
    "This type of tuning is important and should always be performed when using a new\n",
    "gridder or a new dataset.\n"
   ]
  }
 ],
 "metadata": {
  "kernelspec": {
   "display_name": "Python 3",
   "language": "python",
   "name": "python3"
  },
  "language_info": {
   "codemirror_mode": {
    "name": "ipython",
    "version": 3
   },
   "file_extension": ".py",
   "mimetype": "text/x-python",
   "name": "python",
   "nbconvert_exporter": "python",
   "pygments_lexer": "ipython3",
   "version": "3.9.4"
  }
 },
 "nbformat": 4,
 "nbformat_minor": 1
}
